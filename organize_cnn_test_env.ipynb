{
 "cells": [
  {
   "cell_type": "code",
   "execution_count": 3,
   "id": "b2e10c2d",
   "metadata": {},
   "outputs": [],
   "source": [
    "# Imports from Video 10 - Image Preparation for Convulutional Neural Networks with TensorFlow's Keras API\n",
    "# Source link: https://www.youtube.com/watch?v=_L2uYfVV48I&list=PLkUrsn8FkQFb5Gr_CY7HQErZRr6mPb-2q&index=11&t=222s\n",
    "\n",
    "import numpy as np # linear algebra\n",
    "import tensorflow as tf\n",
    "from tensorflow.keras.models import Sequential\n",
    "from tensorflow.keras.layers import Activation, Dense, Flatten, BatchNormalization, Conv2D, MaxPool2D\n",
    "from tensorflow.keras.optimizers import Adam \n",
    "from tensorflow.keras.metrics import categorical_crossentropy\n",
    "from tensorflow.keras.preprocessing.image import ImageDataGenerator\n",
    "from sklearn.metrics import confusion_matrix\n",
    "import itertools\n",
    "import shutil\n",
    "import random\n",
    "import glob\n",
    "import matplotlib.pyplot as plt\n",
    "import warnings\n",
    "warnings.simplefilter(action='ignore', category=FutureWarning)\n",
    "%matplotlib inline\n",
    "\n",
    "import pandas as pd # data processing, CSV file I/O (e.g. pd.read_csv)\n",
    "\n",
    "# Input data files are available in the read-only \"../input/\" directory\n",
    "# For example, running this (by clicking run or pressing Shift+Enter) will list all files under the input directory\n",
    "\n",
    "import os\n",
    "\n",
    "# You can write up to 20GB to the current directory (/kaggle/working/) that gets preserved as output when you create a version using \"Save & Run All\" \n",
    "# You can also write temporary files to /kaggle/temp/, but they won't be saved outside of the current session"
   ]
  },
  {
   "cell_type": "code",
   "execution_count": 8,
   "id": "0c718c97",
   "metadata": {},
   "outputs": [],
   "source": [
    "# Change the working directory to the source directory\n",
    "os.chdir(os.path.join(os.path.expanduser('~'), 'Desktop', 'dogs-vs-cats'))\n",
    "if os.path.isdir('train/dog') is False:\n",
    "    os.makedirs('train/dog')\n",
    "    os.makedirs('train/cat')\n",
    "    os.makedirs('valid/dog')\n",
    "    os.makedirs('valid/cat')\n",
    "    os.makedirs('test/dog')\n",
    "    os.makedirs('test/cat')\n",
    "    \n",
    "    \n",
    "    for c in random.sample(glob.glob('cat*'), 500):\n",
    "        shutil.move(c, 'train/cat')\n",
    "    for c in random.sample(glob.glob('dog*'), 500):\n",
    "        shutil.move(c, 'train/dog')\n",
    "    for c in random.sample(glob.glob('cat*'), 100):\n",
    "        shutil.move(c, 'valid/cat')\n",
    "    for c in random.sample(glob.glob('dog*'), 100):\n",
    "        shutil.move(c, 'valid/dog')\n",
    "    for c in random.sample(glob.glob('cat*'), 50):\n",
    "        shutil.move(c, 'test/cat')\n",
    "    for c in random.sample(glob.glob('dog*'), 50):\n",
    "        shutil.move(c, 'test/dog')"
   ]
  }
 ],
 "metadata": {
  "kernelspec": {
   "display_name": "Python 3 (ipykernel)",
   "language": "python",
   "name": "python3"
  },
  "language_info": {
   "codemirror_mode": {
    "name": "ipython",
    "version": 3
   },
   "file_extension": ".py",
   "mimetype": "text/x-python",
   "name": "python",
   "nbconvert_exporter": "python",
   "pygments_lexer": "ipython3",
   "version": "3.11.5"
  }
 },
 "nbformat": 4,
 "nbformat_minor": 5
}
